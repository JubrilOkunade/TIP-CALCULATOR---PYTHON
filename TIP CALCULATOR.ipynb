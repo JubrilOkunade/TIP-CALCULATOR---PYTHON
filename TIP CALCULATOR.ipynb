{
 "cells": [
  {
   "cell_type": "markdown",
   "id": "4b9c5a07",
   "metadata": {},
   "source": [
    "## Introduction\n",
    "\n",
    "This is a tip calculator designed to help friends split the bill on a night out. It helps calculate how much each person will pay and it also includes the tip percentage added."
   ]
  },
  {
   "cell_type": "code",
   "execution_count": 1,
   "id": "08737b42",
   "metadata": {},
   "outputs": [
    {
     "name": "stdout",
     "output_type": "stream",
     "text": [
      "Welcome to tip calculator created by Jubril Okunade\n"
     ]
    }
   ],
   "source": [
    "# Create a greeting for the calculator.\n",
    "print('Welcome to tip calculator created by Jubril Okunade')"
   ]
  },
  {
   "cell_type": "code",
   "execution_count": 3,
   "id": "30329bda",
   "metadata": {},
   "outputs": [
    {
     "name": "stdout",
     "output_type": "stream",
     "text": [
      "What was the total bill? $123.67\n",
      "What percentage tip will you like to give? 10, 12 or 15? 12\n",
      "How many people are splitting the bill? 8\n",
      "Each person should pay $17.31\n"
     ]
    }
   ],
   "source": [
    "# Ask for the total bill.\n",
    "total_bill =input('What was the total bill? $')\n",
    "\n",
    "# Ask for the percentage tip they will like to give.\n",
    "tip =input('What percentage tip will you like to give? 10, 12 or 15? ')\n",
    "\n",
    "# Ask for the number of people splitting the bill.\n",
    "num_people =input('How many people are splitting the bill? ')\n",
    "\n",
    "# Covert total_bill to float.\n",
    "totalb_float =float(total_bill)\n",
    "\n",
    "# Convert tip to percetage.\n",
    "tip_prct =1 + (int(tip)/100) \n",
    "\n",
    "# Convert num_people to int.\n",
    "int_people =int(num_people)\n",
    "\n",
    "# Calculate how much each person would pay\n",
    "bill_split =(totalb_float/int_people)*tip_prct\n",
    "\n",
    "# Display the total amount to be paid by each person.\n",
    "print(f'Each person should pay ${bill_split:.2f}')"
   ]
  }
 ],
 "metadata": {
  "kernelspec": {
   "display_name": "Python 3 (ipykernel)",
   "language": "python",
   "name": "python3"
  },
  "language_info": {
   "codemirror_mode": {
    "name": "ipython",
    "version": 3
   },
   "file_extension": ".py",
   "mimetype": "text/x-python",
   "name": "python",
   "nbconvert_exporter": "python",
   "pygments_lexer": "ipython3",
   "version": "3.9.7"
  }
 },
 "nbformat": 4,
 "nbformat_minor": 5
}
